{
 "cells": [
  {
   "cell_type": "markdown",
   "metadata": {
    "slideshow": {
     "slide_type": "slide"
    }
   },
   "source": [
    "## Module 3. Analyze Networks"
   ]
  },
  {
   "cell_type": "code",
   "execution_count": 1,
   "metadata": {},
   "outputs": [],
   "source": [
    "import numpy as np\n",
    "import networkx as nx\n",
    "import matplotlib.pyplot as plt\n",
    "from collections import Counter\n",
    "\n",
    "%matplotlib inline"
   ]
  },
  {
   "cell_type": "markdown",
   "metadata": {},
   "source": [
    "Data resources: http://networksciencebook.com/translations/en/resources/data.html"
   ]
  },
  {
   "cell_type": "markdown",
   "metadata": {},
   "source": [
    "### 1. Social Networks - Facebook Pages\n",
    "using ***Graph Embedding with Self Clustering: Facebook data*** \n",
    "\n",
    "- data location: SNAP (Stanford Large Network Dataset Collection)\n",
    "- source: B. Rozemberczki, R. Davies, R. Sarkar and C. Sutton. GEMSEC: Graph Embedding with Self Clustering. 2018."
   ]
  },
  {
   "cell_type": "markdown",
   "metadata": {},
   "source": [
    "<img src=\"../images/data.png\" alt=\"Data\" style=\"width: 300px;\"/>"
   ]
  },
  {
   "cell_type": "markdown",
   "metadata": {},
   "source": [
    "* nodes: pages\n",
    "* edges: mutual likes among them -> this means undirected & networks\n",
    "\n",
    "\n",
    "There are 8 different networks representing different categories. For our current analysis, we will analyze and compare 4 networks `Company`, `Artist`, `Politician` and `Public Figure`, however, you can play with all of them to get used to manipulating networks and computing structural property measures, and to gain insights about the data."
   ]
  },
  {
   "cell_type": "code",
   "execution_count": 2,
   "metadata": {},
   "outputs": [],
   "source": [
    "# load edgelists from data file\n",
    "co_net = nx.read_edgelist(\"../datafiles/social/facebook/facebook_clean_data/company_edges.csv\", delimiter=',')\n",
    "art_net = nx.read_edgelist(\"../datafiles/social/facebook/facebook_clean_data/artist_edges.csv\", delimiter=',')\n",
    "poli_net = nx.read_edgelist(\"../datafiles/social/facebook/facebook_clean_data/politician_edges.csv\", delimiter=',')\n",
    "pub_net = nx.read_edgelist(\"../datafiles/social/facebook/facebook_clean_data/public_figure_edges.csv\", delimiter=',')"
   ]
  },
  {
   "cell_type": "code",
   "execution_count": 3,
   "metadata": {},
   "outputs": [
    {
     "name": "stdout",
     "output_type": "stream",
     "text": [
      "5908\n",
      "52310\n"
     ]
    }
   ],
   "source": [
    "# check number of nodes and edges \n",
    "N = len(poli_net.nodes)\n",
    "print(N)\n",
    "\n",
    "E = len(co_net.edges)\n",
    "print(E)"
   ]
  },
  {
   "cell_type": "markdown",
   "metadata": {
    "slideshow": {
     "slide_type": "subslide"
    }
   },
   "source": [
    "#### 1. Node degree, network average degree, degree distribution"
   ]
  },
  {
   "cell_type": "code",
   "execution_count": 4,
   "metadata": {
    "slideshow": {
     "slide_type": "fragment"
    }
   },
   "outputs": [],
   "source": [
    "# get degrees\n",
    "degrees = [deg for node, deg in nx.degree(poli_net)]"
   ]
  },
  {
   "cell_type": "code",
   "execution_count": 5,
   "metadata": {
    "slideshow": {
     "slide_type": "fragment"
    }
   },
   "outputs": [
    {
     "name": "stdout",
     "output_type": "stream",
     "text": [
      "Minimum degree:  1\n",
      "Maximum degree:  323\n",
      "Average degree:  14.126269465132024\n"
     ]
    }
   ],
   "source": [
    "# kmin - minimum degree\n",
    "kmin = np.min(degrees)\n",
    "print(\"Minimum degree: \", kmin)\n",
    "\n",
    "# kmax - maximum degree\n",
    "kmax = np.max(degrees)\n",
    "print(\"Maximum degree: \", kmax)\n",
    "\n",
    "# kavg - average degree of the network\n",
    "kavg = np.mean(degrees)\n",
    "print(\"Average degree: \", kavg)"
   ]
  },
  {
   "cell_type": "markdown",
   "metadata": {
    "slideshow": {
     "slide_type": "slide"
    }
   },
   "source": [
    "**Degree distribution**: helps us understand connectivity trends in networks and how edges are distributed among nodes (does everyone have similar number of connections, or do we have hubs, nodes with significantly higher number of connections?)"
   ]
  },
  {
   "cell_type": "code",
   "execution_count": 6,
   "metadata": {
    "slideshow": {
     "slide_type": "fragment"
    }
   },
   "outputs": [],
   "source": [
    "def degree_distr(net):\n",
    "    degrees = dict(net.degree()) \n",
    "    hist = list(Counter(degrees.values()).items()) \n",
    "    hist.sort(key=lambda x:x[0])\n",
    "    hist = np.array(hist)\n",
    "    return hist"
   ]
  },
  {
   "cell_type": "code",
   "execution_count": 7,
   "metadata": {
    "slideshow": {
     "slide_type": "fragment"
    }
   },
   "outputs": [],
   "source": [
    "dd = degree_distr(poli_net)"
   ]
  },
  {
   "cell_type": "code",
   "execution_count": 8,
   "metadata": {
    "slideshow": {
     "slide_type": "slide"
    }
   },
   "outputs": [
    {
     "data": {
      "text/plain": [
       "Text(0.5,1,'Physicians')"
      ]
     },
     "execution_count": 8,
     "metadata": {},
     "output_type": "execute_result"
    },
    {
     "data": {
      "image/png": "[encoded data removed]",
      "text/plain": [
       "<matplotlib.figure.Figure at 0x7f87ee929198>"
      ]
     },
     "metadata": {},
     "output_type": "display_data"
    }
   ],
   "source": [
    "plt.figure()\n",
    "plt.loglog(dd.T[0],dd.T[1],'ro-')\n",
    "plt.legend(['Physicians'])\n",
    "plt.xlabel('Degree')\n",
    "plt.ylabel('Number of nodes')\n",
    "plt.title('Physicians')"
   ]
  },
  {
   "cell_type": "code",
   "execution_count": 9,
   "metadata": {},
   "outputs": [
    {
     "name": "stdout",
     "output_type": "stream",
     "text": [
      "The # of mutual likes politician pages have on average: 14.126269465132024\n",
      "The # of mutual likes artist pages have on average: 32.43812728892408\n",
      "The # of mutual likes company pages have on average: 7.413023453553461\n",
      "The # of mutual likes public figure pages have on average: 11.606398616515348\n"
     ]
    }
   ],
   "source": [
    "# calculate average degree of politician pages\n",
    "degrees = [deg for node, deg in nx.degree(poli_net)]\n",
    "kavg = np.mean(degrees)\n",
    "print(\"The # of mutual likes politician pages have on average:\", kavg)\n",
    "\n",
    "# calculate average degree of artist pages\n",
    "degrees = [deg for node, deg in nx.degree(art_net)]\n",
    "kavg = np.mean(degrees)\n",
    "print(\"The # of mutual likes artist pages have on average:\", kavg)\n",
    "\n",
    "# calculate average degree of company pages\n",
    "degrees = [deg for node, deg in nx.degree(co_net)]\n",
    "kavg = np.mean(degrees)\n",
    "print(\"The # of mutual likes company pages have on average:\", kavg)\n",
    "\n",
    "# calculate average degree of public figure pages\n",
    "degrees = [deg for node, deg in nx.degree(pub_net)]\n",
    "kavg = np.mean(degrees)\n",
    "print(\"The # of mutual likes public figure pages have on average:\", kavg)"
   ]
  },
  {
   "cell_type": "code",
   "execution_count": 10,
   "metadata": {},
   "outputs": [
    {
     "data": {
      "image/png": "[encoded data removed]",
      "text/plain": [
       "<matplotlib.figure.Figure at 0x7f87ee979da0>"
      ]
     },
     "metadata": {},
     "output_type": "display_data"
    }
   ],
   "source": [
    "hist_poli = degree_distr(poli_net)\n",
    "hist_art = degree_distr(art_net)\n",
    "hist_co = degree_distr(co_net)\n",
    "hist_pub = degree_distr(pub_net)\n",
    "\n",
    "plt.figure()\n",
    "plt.loglog(hist_poli.T[0],hist_poli.T[1],'ro-')\n",
    "plt.loglog(hist_art.T[0],hist_art.T[1],'ko-')\n",
    "plt.loglog(hist_co.T[0],hist_co.T[1],'go-')\n",
    "plt.loglog(hist_pub.T[0],hist_pub.T[1],'bo-')\n",
    "plt.legend(['Politician', 'Artist', 'Company', 'Public Figure'])\n",
    "plt.xlabel('Degree')\n",
    "plt.ylabel('Number of nodes')\n",
    "plt.title('Facebook Networks by Category')\n",
    "plt.savefig('fb_network_degree_distr.png')"
   ]
  },
  {
   "cell_type": "markdown",
   "metadata": {
    "slideshow": {
     "slide_type": "slide"
    }
   },
   "source": [
    "#### 2. Paths on networks: average path length, shortest path, longest path"
   ]
  },
  {
   "cell_type": "code",
   "execution_count": 11,
   "metadata": {},
   "outputs": [],
   "source": [
    "# load physicians network\n",
    "G = nx.read_edgelist(\"../datafiles/social/physicians/out.moreno_innovation_innovation\", comments='%')"
   ]
  },
  {
   "cell_type": "code",
   "execution_count": 12,
   "metadata": {},
   "outputs": [],
   "source": [
    "# load Zachary karate club network\n",
    "Z = nx.karate_club_graph()"
   ]
  },
  {
   "cell_type": "code",
   "execution_count": 13,
   "metadata": {
    "slideshow": {
     "slide_type": "fragment"
    }
   },
   "outputs": [
    {
     "data": {
      "text/plain": [
       "['1', '2', '40', '15']"
      ]
     },
     "execution_count": 13,
     "metadata": {},
     "output_type": "execute_result"
    }
   ],
   "source": [
    "# find shortest path between node1 and node2 in directed & undirected networks \n",
    "nx.shortest_path(G, '1', '15')"
   ]
  },
  {
   "cell_type": "code",
   "execution_count": 14,
   "metadata": {
    "slideshow": {
     "slide_type": "fragment"
    }
   },
   "outputs": [
    {
     "data": {
      "text/plain": [
       "2.408199643493761"
      ]
     },
     "execution_count": 14,
     "metadata": {},
     "output_type": "execute_result"
    }
   ],
   "source": [
    "# average path length in graph\n",
    "nx.average_shortest_path_length(Z, weight=None)"
   ]
  },
  {
   "cell_type": "markdown",
   "metadata": {
    "slideshow": {
     "slide_type": "slide"
    }
   },
   "source": [
    "#### 3. Clustering coefficient, triangles"
   ]
  },
  {
   "cell_type": "code",
   "execution_count": 15,
   "metadata": {
    "slideshow": {
     "slide_type": "fragment"
    }
   },
   "outputs": [
    {
     "data": {
      "text/plain": [
       "{'1': 3,\n",
       " '10': 10,\n",
       " '100': 6,\n",
       " '101': 6,\n",
       " '102': 3,\n",
       " '103': 4,\n",
       " '104': 0,\n",
       " '105': 0,\n",
       " '106': 1,\n",
       " '107': 2,\n",
       " '108': 1,\n",
       " '109': 7,\n",
       " '11': 16,\n",
       " '110': 2,\n",
       " '111': 3,\n",
       " '112': 2,\n",
       " '113': 0,\n",
       " '114': 0,\n",
       " '115': 3,\n",
       " '116': 2,\n",
       " '117': 6,\n",
       " '118': 3,\n",
       " '119': 7,\n",
       " '12': 17,\n",
       " '120': 8,\n",
       " '121': 45,\n",
       " '122': 1,\n",
       " '123': 4,\n",
       " '124': 4,\n",
       " '125': 12,\n",
       " '126': 10,\n",
       " '127': 73,\n",
       " '128': 35,\n",
       " '129': 20,\n",
       " '13': 25,\n",
       " '130': 8,\n",
       " '131': 9,\n",
       " '132': 25,\n",
       " '133': 13,\n",
       " '134': 8,\n",
       " '135': 1,\n",
       " '136': 9,\n",
       " '137': 2,\n",
       " '138': 14,\n",
       " '139': 0,\n",
       " '14': 13,\n",
       " '140': 4,\n",
       " '141': 14,\n",
       " '142': 8,\n",
       " '143': 1,\n",
       " '144': 13,\n",
       " '145': 7,\n",
       " '146': 2,\n",
       " '147': 1,\n",
       " '148': 7,\n",
       " '149': 8,\n",
       " '15': 43,\n",
       " '150': 6,\n",
       " '151': 11,\n",
       " '152': 6,\n",
       " '153': 3,\n",
       " '154': 3,\n",
       " '155': 6,\n",
       " '156': 8,\n",
       " '157': 8,\n",
       " '158': 10,\n",
       " '159': 3,\n",
       " '16': 19,\n",
       " '160': 7,\n",
       " '161': 9,\n",
       " '162': 6,\n",
       " '163': 5,\n",
       " '164': 1,\n",
       " '165': 0,\n",
       " '166': 7,\n",
       " '167': 7,\n",
       " '168': 15,\n",
       " '169': 5,\n",
       " '17': 11,\n",
       " '170': 13,\n",
       " '171': 10,\n",
       " '172': 2,\n",
       " '173': 5,\n",
       " '174': 4,\n",
       " '175': 4,\n",
       " '176': 4,\n",
       " '177': 2,\n",
       " '178': 1,\n",
       " '179': 8,\n",
       " '18': 11,\n",
       " '180': 1,\n",
       " '181': 1,\n",
       " '182': 7,\n",
       " '183': 12,\n",
       " '184': 13,\n",
       " '185': 14,\n",
       " '186': 13,\n",
       " '187': 10,\n",
       " '188': 4,\n",
       " '189': 2,\n",
       " '19': 8,\n",
       " '190': 3,\n",
       " '191': 7,\n",
       " '192': 9,\n",
       " '193': 17,\n",
       " '194': 32,\n",
       " '195': 13,\n",
       " '196': 10,\n",
       " '197': 15,\n",
       " '198': 8,\n",
       " '199': 6,\n",
       " '2': 3,\n",
       " '20': 10,\n",
       " '200': 8,\n",
       " '201': 4,\n",
       " '202': 13,\n",
       " '203': 8,\n",
       " '204': 2,\n",
       " '205': 2,\n",
       " '206': 0,\n",
       " '207': 7,\n",
       " '208': 41,\n",
       " '209': 39,\n",
       " '21': 10,\n",
       " '210': 41,\n",
       " '211': 18,\n",
       " '212': 0,\n",
       " '213': 11,\n",
       " '214': 4,\n",
       " '215': 7,\n",
       " '216': 24,\n",
       " '217': 22,\n",
       " '218': 6,\n",
       " '219': 18,\n",
       " '22': 9,\n",
       " '220': 45,\n",
       " '221': 37,\n",
       " '222': 1,\n",
       " '223': 14,\n",
       " '224': 8,\n",
       " '225': 23,\n",
       " '226': 16,\n",
       " '227': 7,\n",
       " '228': 35,\n",
       " '229': 9,\n",
       " '23': 25,\n",
       " '230': 1,\n",
       " '231': 12,\n",
       " '232': 7,\n",
       " '233': 10,\n",
       " '234': 4,\n",
       " '235': 6,\n",
       " '236': 5,\n",
       " '237': 9,\n",
       " '238': 5,\n",
       " '239': 1,\n",
       " '24': 3,\n",
       " '240': 5,\n",
       " '241': 0,\n",
       " '25': 14,\n",
       " '26': 8,\n",
       " '27': 3,\n",
       " '28': 6,\n",
       " '29': 9,\n",
       " '3': 3,\n",
       " '30': 5,\n",
       " '31': 8,\n",
       " '32': 6,\n",
       " '33': 8,\n",
       " '34': 8,\n",
       " '35': 5,\n",
       " '36': 10,\n",
       " '37': 9,\n",
       " '38': 4,\n",
       " '39': 2,\n",
       " '4': 8,\n",
       " '40': 28,\n",
       " '41': 7,\n",
       " '42': 6,\n",
       " '43': 8,\n",
       " '44': 3,\n",
       " '45': 6,\n",
       " '46': 7,\n",
       " '47': 11,\n",
       " '48': 4,\n",
       " '49': 3,\n",
       " '5': 9,\n",
       " '50': 0,\n",
       " '51': 1,\n",
       " '52': 1,\n",
       " '53': 2,\n",
       " '54': 13,\n",
       " '55': 11,\n",
       " '56': 2,\n",
       " '57': 4,\n",
       " '58': 1,\n",
       " '59': 2,\n",
       " '6': 6,\n",
       " '60': 4,\n",
       " '61': 0,\n",
       " '62': 0,\n",
       " '63': 8,\n",
       " '64': 1,\n",
       " '65': 4,\n",
       " '66': 4,\n",
       " '67': 7,\n",
       " '68': 2,\n",
       " '69': 12,\n",
       " '7': 0,\n",
       " '70': 3,\n",
       " '71': 4,\n",
       " '72': 4,\n",
       " '73': 8,\n",
       " '74': 19,\n",
       " '75': 5,\n",
       " '76': 3,\n",
       " '77': 4,\n",
       " '78': 2,\n",
       " '79': 2,\n",
       " '8': 4,\n",
       " '80': 1,\n",
       " '81': 0,\n",
       " '82': 2,\n",
       " '83': 1,\n",
       " '84': 9,\n",
       " '85': 3,\n",
       " '86': 2,\n",
       " '87': 6,\n",
       " '88': 0,\n",
       " '89': 10,\n",
       " '9': 21,\n",
       " '90': 0,\n",
       " '91': 3,\n",
       " '92': 7,\n",
       " '93': 2,\n",
       " '94': 5,\n",
       " '95': 6,\n",
       " '96': 2,\n",
       " '97': 6,\n",
       " '98': 4,\n",
       " '99': 4}"
      ]
     },
     "execution_count": 15,
     "metadata": {},
     "output_type": "execute_result"
    }
   ],
   "source": [
    "# triangles\n",
    "nx.triangles(G)"
   ]
  },
  {
   "cell_type": "code",
   "execution_count": 16,
   "metadata": {
    "slideshow": {
     "slide_type": "fragment"
    }
   },
   "outputs": [
    {
     "data": {
      "text/plain": [
       "0.14285714285714285"
      ]
     },
     "execution_count": 16,
     "metadata": {},
     "output_type": "execute_result"
    }
   ],
   "source": [
    "# clustering coefficient of a node\n",
    "nx.clustering(G, '1')"
   ]
  },
  {
   "cell_type": "code",
   "execution_count": 17,
   "metadata": {
    "slideshow": {
     "slide_type": "slide"
    }
   },
   "outputs": [
    {
     "data": {
      "text/plain": [
       "{'1': 0.14285714285714285,\n",
       " '10': 0.09523809523809523,\n",
       " '100': 0.21428571428571427,\n",
       " '101': 0.21428571428571427,\n",
       " '102': 0.14285714285714285,\n",
       " '103': 0.19047619047619047,\n",
       " '104': 0,\n",
       " '105': 0,\n",
       " '106': 0.1,\n",
       " '107': 0.3333333333333333,\n",
       " '108': 0.1,\n",
       " '109': 0.25,\n",
       " '11': 0.13333333333333333,\n",
       " '110': 0.6666666666666666,\n",
       " '111': 0.5,\n",
       " '112': 0.2,\n",
       " '113': 0,\n",
       " '114': 0,\n",
       " '115': 1.0,\n",
       " '116': 0.3333333333333333,\n",
       " '117': 1.0,\n",
       " '118': 0.2,\n",
       " '119': 0.25,\n",
       " '12': 0.14166666666666666,\n",
       " '120': 0.38095238095238093,\n",
       " '121': 0.19480519480519481,\n",
       " '122': 1.0,\n",
       " '123': 0.4,\n",
       " '124': 0.6666666666666666,\n",
       " '125': 0.3333333333333333,\n",
       " '126': 0.2777777777777778,\n",
       " '127': 0.1931216931216931,\n",
       " '128': 0.22875816993464052,\n",
       " '129': 0.4444444444444444,\n",
       " '13': 0.23809523809523808,\n",
       " '130': 0.5333333333333333,\n",
       " '131': 0.32142857142857145,\n",
       " '132': 0.3787878787878788,\n",
       " '133': 0.28888888888888886,\n",
       " '134': 0.38095238095238093,\n",
       " '135': 0.3333333333333333,\n",
       " '136': 0.25,\n",
       " '137': 0.09523809523809523,\n",
       " '138': 0.3888888888888889,\n",
       " '139': 0,\n",
       " '14': 0.28888888888888886,\n",
       " '140': 0.6666666666666666,\n",
       " '141': 0.5,\n",
       " '142': 0.5333333333333333,\n",
       " '143': 0.06666666666666667,\n",
       " '144': 0.3611111111111111,\n",
       " '145': 0.25,\n",
       " '146': 0.6666666666666666,\n",
       " '147': 0.16666666666666666,\n",
       " '148': 0.3333333333333333,\n",
       " '149': 0.38095238095238093,\n",
       " '15': 0.13230769230769232,\n",
       " '150': 0.4,\n",
       " '151': 0.24444444444444444,\n",
       " '152': 0.21428571428571427,\n",
       " '153': 0.3,\n",
       " '154': 1.0,\n",
       " '155': 0.4,\n",
       " '156': 0.5333333333333333,\n",
       " '157': 0.5333333333333333,\n",
       " '158': 0.47619047619047616,\n",
       " '159': 0.5,\n",
       " '16': 0.2087912087912088,\n",
       " '160': 0.4666666666666667,\n",
       " '161': 0.42857142857142855,\n",
       " '162': 0.2857142857142857,\n",
       " '163': 0.5,\n",
       " '164': 0.3333333333333333,\n",
       " '165': 0,\n",
       " '166': 0.3333333333333333,\n",
       " '167': 0.19444444444444445,\n",
       " '168': 0.3333333333333333,\n",
       " '169': 0.5,\n",
       " '17': 0.3055555555555556,\n",
       " '170': 0.23636363636363636,\n",
       " '171': 0.2777777777777778,\n",
       " '172': 0.2,\n",
       " '173': 0.5,\n",
       " '174': 0.4,\n",
       " '175': 0.26666666666666666,\n",
       " '176': 0.26666666666666666,\n",
       " '177': 0.2,\n",
       " '178': 0.16666666666666666,\n",
       " '179': 0.38095238095238093,\n",
       " '18': 0.3055555555555556,\n",
       " '180': 1.0,\n",
       " '181': 1.0,\n",
       " '182': 0.3333333333333333,\n",
       " '183': 0.3333333333333333,\n",
       " '184': 0.4642857142857143,\n",
       " '185': 0.3111111111111111,\n",
       " '186': 0.3611111111111111,\n",
       " '187': 0.2777777777777778,\n",
       " '188': 0.26666666666666666,\n",
       " '189': 0.3333333333333333,\n",
       " '19': 0.2857142857142857,\n",
       " '190': 0.3,\n",
       " '191': 0.4666666666666667,\n",
       " '192': 0.16363636363636364,\n",
       " '193': 0.4722222222222222,\n",
       " '194': 0.3047619047619048,\n",
       " '195': 0.4642857142857143,\n",
       " '196': 0.47619047619047616,\n",
       " '197': 0.19230769230769232,\n",
       " '198': 0.17777777777777778,\n",
       " '199': 0.6,\n",
       " '2': 0.10714285714285714,\n",
       " '20': 0.35714285714285715,\n",
       " '200': 0.38095238095238093,\n",
       " '201': 0.6666666666666666,\n",
       " '202': 0.3611111111111111,\n",
       " '203': 0.8,\n",
       " '204': 0.2,\n",
       " '205': 0.6666666666666666,\n",
       " '206': 0,\n",
       " '207': 0.4666666666666667,\n",
       " '208': 0.45054945054945056,\n",
       " '209': 0.42857142857142855,\n",
       " '21': 0.35714285714285715,\n",
       " '210': 0.45054945054945056,\n",
       " '211': 0.32727272727272727,\n",
       " '212': 0,\n",
       " '213': 0.16666666666666666,\n",
       " '214': 0.4,\n",
       " '215': 0.25,\n",
       " '216': 0.36363636363636365,\n",
       " '217': 0.4888888888888889,\n",
       " '218': 0.4,\n",
       " '219': 0.4,\n",
       " '22': 0.32142857142857145,\n",
       " '220': 0.42857142857142855,\n",
       " '221': 0.5606060606060606,\n",
       " '222': 1.0,\n",
       " '223': 0.5,\n",
       " '224': 0.5333333333333333,\n",
       " '225': 0.8214285714285714,\n",
       " '226': 0.4444444444444444,\n",
       " '227': 0.4666666666666667,\n",
       " '228': 0.6363636363636364,\n",
       " '229': 0.32142857142857145,\n",
       " '23': 0.18382352941176472,\n",
       " '230': 0.16666666666666666,\n",
       " '231': 0.26666666666666666,\n",
       " '232': 0.25,\n",
       " '233': 0.35714285714285715,\n",
       " '234': 0.4,\n",
       " '235': 0.21428571428571427,\n",
       " '236': 0.8333333333333334,\n",
       " '237': 0.6,\n",
       " '238': 0.8333333333333334,\n",
       " '239': 1.0,\n",
       " '24': 0.08333333333333333,\n",
       " '240': 0.5,\n",
       " '241': 0,\n",
       " '25': 0.21212121212121213,\n",
       " '26': 0.17777777777777778,\n",
       " '27': 0.14285714285714285,\n",
       " '28': 0.13333333333333333,\n",
       " '29': 0.11538461538461539,\n",
       " '3': 0.08333333333333333,\n",
       " '30': 0.17857142857142858,\n",
       " '31': 0.2222222222222222,\n",
       " '32': 0.16666666666666666,\n",
       " '33': 0.2857142857142857,\n",
       " '34': 0.5333333333333333,\n",
       " '35': 0.1111111111111111,\n",
       " '36': 0.18181818181818182,\n",
       " '37': 0.6,\n",
       " '38': 0.1111111111111111,\n",
       " '39': 0.13333333333333333,\n",
       " '4': 0.12121212121212122,\n",
       " '40': 0.20588235294117646,\n",
       " '41': 0.12727272727272726,\n",
       " '42': 0.16666666666666666,\n",
       " '43': 0.2857142857142857,\n",
       " '44': 0.14285714285714285,\n",
       " '45': 0.10909090909090909,\n",
       " '46': 0.19444444444444445,\n",
       " '47': 0.2,\n",
       " '48': 0.1111111111111111,\n",
       " '49': 0.14285714285714285,\n",
       " '5': 0.11538461538461539,\n",
       " '50': 0,\n",
       " '51': 0.047619047619047616,\n",
       " '52': 0.3333333333333333,\n",
       " '53': 0.09523809523809523,\n",
       " '54': 0.19696969696969696,\n",
       " '55': 0.2,\n",
       " '56': 0.3333333333333333,\n",
       " '57': 0.26666666666666666,\n",
       " '58': 0.03571428571428571,\n",
       " '59': 0.2,\n",
       " '6': 0.4,\n",
       " '60': 0.1111111111111111,\n",
       " '61': 0,\n",
       " '62': 0,\n",
       " '63': 0.10256410256410256,\n",
       " '64': 0.16666666666666666,\n",
       " '65': 0.6666666666666666,\n",
       " '66': 0.4,\n",
       " '67': 0.19444444444444445,\n",
       " '68': 0.13333333333333333,\n",
       " '69': 0.11428571428571428,\n",
       " '7': 0,\n",
       " '70': 0.5,\n",
       " '71': 0.4,\n",
       " '72': 0.14285714285714285,\n",
       " '73': 0.2222222222222222,\n",
       " '74': 0.12418300653594772,\n",
       " '75': 0.1111111111111111,\n",
       " '76': 0.5,\n",
       " '77': 0.26666666666666666,\n",
       " '78': 0.044444444444444446,\n",
       " '79': 0.2,\n",
       " '8': 0.4,\n",
       " '80': 0.16666666666666666,\n",
       " '81': 0,\n",
       " '82': 0.13333333333333333,\n",
       " '83': 0.1,\n",
       " '84': 0.2,\n",
       " '85': 0.3,\n",
       " '86': 0.09523809523809523,\n",
       " '87': 0.10909090909090909,\n",
       " '88': 0,\n",
       " '89': 0.18181818181818182,\n",
       " '9': 0.23076923076923078,\n",
       " '90': 0,\n",
       " '91': 0.14285714285714285,\n",
       " '92': 0.19444444444444445,\n",
       " '93': 0.07142857142857142,\n",
       " '94': 0.17857142857142858,\n",
       " '95': 1.0,\n",
       " '96': 0.6666666666666666,\n",
       " '97': 0.21428571428571427,\n",
       " '98': 0.1111111111111111,\n",
       " '99': 0.4}"
      ]
     },
     "execution_count": 17,
     "metadata": {},
     "output_type": "execute_result"
    }
   ],
   "source": [
    "# clustering coefficient of all nodes (returns a dictionary)\n",
    "nx.clustering(G)"
   ]
  },
  {
   "cell_type": "code",
   "execution_count": 18,
   "metadata": {
    "slideshow": {
     "slide_type": "slide"
    }
   },
   "outputs": [
    {
     "name": "stdout",
     "output_type": "stream",
     "text": [
      "Physicians network clustering coefficient: 0.31157513564640726\n"
     ]
    }
   ],
   "source": [
    "# clustering coefficient of the network\n",
    "cc = nx.clustering(G)\n",
    "avg_clust = sum(cc.values()) / len(cc)\n",
    "print(\"Physicians network clustering coefficient:\", avg_clust)"
   ]
  },
  {
   "cell_type": "markdown",
   "metadata": {
    "slideshow": {
     "slide_type": "slide"
    }
   },
   "source": [
    "#### 4. Centrality measures"
   ]
  },
  {
   "cell_type": "code",
   "execution_count": 19,
   "metadata": {
    "slideshow": {
     "slide_type": "fragment"
    }
   },
   "outputs": [
    {
     "data": {
      "text/plain": [
       "{'1': 0.029166666666666667,\n",
       " '10': 0.0625,\n",
       " '100': 0.03333333333333333,\n",
       " '101': 0.03333333333333333,\n",
       " '102': 0.029166666666666667,\n",
       " '103': 0.029166666666666667,\n",
       " '104': 0.020833333333333332,\n",
       " '105': 0.016666666666666666,\n",
       " '106': 0.020833333333333332,\n",
       " '107': 0.016666666666666666,\n",
       " '108': 0.020833333333333332,\n",
       " '109': 0.03333333333333333,\n",
       " '11': 0.06666666666666667,\n",
       " '110': 0.0125,\n",
       " '111': 0.016666666666666666,\n",
       " '112': 0.020833333333333332,\n",
       " '113': 0.0125,\n",
       " '114': 0.008333333333333333,\n",
       " '115': 0.0125,\n",
       " '116': 0.016666666666666666,\n",
       " '117': 0.016666666666666666,\n",
       " '118': 0.025,\n",
       " '119': 0.03333333333333333,\n",
       " '12': 0.06666666666666667,\n",
       " '120': 0.029166666666666667,\n",
       " '121': 0.09166666666666666,\n",
       " '122': 0.008333333333333333,\n",
       " '123': 0.020833333333333332,\n",
       " '124': 0.016666666666666666,\n",
       " '125': 0.0375,\n",
       " '126': 0.0375,\n",
       " '127': 0.11666666666666667,\n",
       " '128': 0.075,\n",
       " '129': 0.041666666666666664,\n",
       " '13': 0.0625,\n",
       " '130': 0.025,\n",
       " '131': 0.03333333333333333,\n",
       " '132': 0.05,\n",
       " '133': 0.041666666666666664,\n",
       " '134': 0.029166666666666667,\n",
       " '135': 0.0125,\n",
       " '136': 0.0375,\n",
       " '137': 0.029166666666666667,\n",
       " '138': 0.0375,\n",
       " '139': 0.020833333333333332,\n",
       " '14': 0.041666666666666664,\n",
       " '140': 0.016666666666666666,\n",
       " '141': 0.03333333333333333,\n",
       " '142': 0.025,\n",
       " '143': 0.025,\n",
       " '144': 0.0375,\n",
       " '145': 0.03333333333333333,\n",
       " '146': 0.0125,\n",
       " '147': 0.016666666666666666,\n",
       " '148': 0.029166666666666667,\n",
       " '149': 0.029166666666666667,\n",
       " '15': 0.10833333333333334,\n",
       " '150': 0.025,\n",
       " '151': 0.041666666666666664,\n",
       " '152': 0.03333333333333333,\n",
       " '153': 0.020833333333333332,\n",
       " '154': 0.0125,\n",
       " '155': 0.025,\n",
       " '156': 0.025,\n",
       " '157': 0.025,\n",
       " '158': 0.029166666666666667,\n",
       " '159': 0.016666666666666666,\n",
       " '16': 0.058333333333333334,\n",
       " '160': 0.025,\n",
       " '161': 0.029166666666666667,\n",
       " '162': 0.029166666666666667,\n",
       " '163': 0.020833333333333332,\n",
       " '164': 0.0125,\n",
       " '165': 0.0125,\n",
       " '166': 0.029166666666666667,\n",
       " '167': 0.0375,\n",
       " '168': 0.041666666666666664,\n",
       " '169': 0.020833333333333332,\n",
       " '17': 0.0375,\n",
       " '170': 0.04583333333333333,\n",
       " '171': 0.0375,\n",
       " '172': 0.020833333333333332,\n",
       " '173': 0.020833333333333332,\n",
       " '174': 0.020833333333333332,\n",
       " '175': 0.025,\n",
       " '176': 0.025,\n",
       " '177': 0.020833333333333332,\n",
       " '178': 0.016666666666666666,\n",
       " '179': 0.029166666666666667,\n",
       " '18': 0.0375,\n",
       " '180': 0.008333333333333333,\n",
       " '181': 0.008333333333333333,\n",
       " '182': 0.029166666666666667,\n",
       " '183': 0.0375,\n",
       " '184': 0.03333333333333333,\n",
       " '185': 0.041666666666666664,\n",
       " '186': 0.0375,\n",
       " '187': 0.0375,\n",
       " '188': 0.025,\n",
       " '189': 0.016666666666666666,\n",
       " '19': 0.03333333333333333,\n",
       " '190': 0.020833333333333332,\n",
       " '191': 0.025,\n",
       " '192': 0.04583333333333333,\n",
       " '193': 0.0375,\n",
       " '194': 0.0625,\n",
       " '195': 0.03333333333333333,\n",
       " '196': 0.029166666666666667,\n",
       " '197': 0.05416666666666667,\n",
       " '198': 0.041666666666666664,\n",
       " '199': 0.020833333333333332,\n",
       " '2': 0.03333333333333333,\n",
       " '20': 0.03333333333333333,\n",
       " '200': 0.029166666666666667,\n",
       " '201': 0.016666666666666666,\n",
       " '202': 0.0375,\n",
       " '203': 0.020833333333333332,\n",
       " '204': 0.020833333333333332,\n",
       " '205': 0.0125,\n",
       " '206': 0.008333333333333333,\n",
       " '207': 0.025,\n",
       " '208': 0.058333333333333334,\n",
       " '209': 0.058333333333333334,\n",
       " '21': 0.03333333333333333,\n",
       " '210': 0.058333333333333334,\n",
       " '211': 0.04583333333333333,\n",
       " '212': 0.004166666666666667,\n",
       " '213': 0.05,\n",
       " '214': 0.020833333333333332,\n",
       " '215': 0.03333333333333333,\n",
       " '216': 0.05,\n",
       " '217': 0.041666666666666664,\n",
       " '218': 0.025,\n",
       " '219': 0.041666666666666664,\n",
       " '22': 0.03333333333333333,\n",
       " '220': 0.0625,\n",
       " '221': 0.05,\n",
       " '222': 0.008333333333333333,\n",
       " '223': 0.03333333333333333,\n",
       " '224': 0.025,\n",
       " '225': 0.03333333333333333,\n",
       " '226': 0.0375,\n",
       " '227': 0.025,\n",
       " '228': 0.04583333333333333,\n",
       " '229': 0.03333333333333333,\n",
       " '23': 0.07083333333333333,\n",
       " '230': 0.016666666666666666,\n",
       " '231': 0.041666666666666664,\n",
       " '232': 0.03333333333333333,\n",
       " '233': 0.03333333333333333,\n",
       " '234': 0.020833333333333332,\n",
       " '235': 0.03333333333333333,\n",
       " '236': 0.016666666666666666,\n",
       " '237': 0.025,\n",
       " '238': 0.016666666666666666,\n",
       " '239': 0.008333333333333333,\n",
       " '24': 0.0375,\n",
       " '240': 0.020833333333333332,\n",
       " '241': 0.008333333333333333,\n",
       " '25': 0.05,\n",
       " '26': 0.041666666666666664,\n",
       " '27': 0.029166666666666667,\n",
       " '28': 0.041666666666666664,\n",
       " '29': 0.05416666666666667,\n",
       " '3': 0.0375,\n",
       " '30': 0.03333333333333333,\n",
       " '31': 0.0375,\n",
       " '32': 0.0375,\n",
       " '33': 0.03333333333333333,\n",
       " '34': 0.025,\n",
       " '35': 0.041666666666666664,\n",
       " '36': 0.04583333333333333,\n",
       " '37': 0.025,\n",
       " '38': 0.0375,\n",
       " '39': 0.025,\n",
       " '4': 0.05,\n",
       " '40': 0.07083333333333333,\n",
       " '41': 0.04583333333333333,\n",
       " '42': 0.0375,\n",
       " '43': 0.03333333333333333,\n",
       " '44': 0.029166666666666667,\n",
       " '45': 0.04583333333333333,\n",
       " '46': 0.0375,\n",
       " '47': 0.04583333333333333,\n",
       " '48': 0.0375,\n",
       " '49': 0.029166666666666667,\n",
       " '5': 0.05416666666666667,\n",
       " '50': 0.008333333333333333,\n",
       " '51': 0.029166666666666667,\n",
       " '52': 0.0125,\n",
       " '53': 0.029166666666666667,\n",
       " '54': 0.05,\n",
       " '55': 0.04583333333333333,\n",
       " '56': 0.016666666666666666,\n",
       " '57': 0.025,\n",
       " '58': 0.03333333333333333,\n",
       " '59': 0.020833333333333332,\n",
       " '6': 0.025,\n",
       " '60': 0.0375,\n",
       " '61': 0.008333333333333333,\n",
       " '62': 0.016666666666666666,\n",
       " '63': 0.05416666666666667,\n",
       " '64': 0.016666666666666666,\n",
       " '65': 0.016666666666666666,\n",
       " '66': 0.020833333333333332,\n",
       " '67': 0.0375,\n",
       " '68': 0.025,\n",
       " '69': 0.0625,\n",
       " '7': 0.008333333333333333,\n",
       " '70': 0.016666666666666666,\n",
       " '71': 0.020833333333333332,\n",
       " '72': 0.03333333333333333,\n",
       " '73': 0.0375,\n",
       " '74': 0.075,\n",
       " '75': 0.041666666666666664,\n",
       " '76': 0.016666666666666666,\n",
       " '77': 0.025,\n",
       " '78': 0.041666666666666664,\n",
       " '79': 0.020833333333333332,\n",
       " '8': 0.020833333333333332,\n",
       " '80': 0.016666666666666666,\n",
       " '81': 0.020833333333333332,\n",
       " '82': 0.025,\n",
       " '83': 0.020833333333333332,\n",
       " '84': 0.041666666666666664,\n",
       " '85': 0.020833333333333332,\n",
       " '86': 0.029166666666666667,\n",
       " '87': 0.04583333333333333,\n",
       " '88': 0.008333333333333333,\n",
       " '89': 0.04583333333333333,\n",
       " '9': 0.058333333333333334,\n",
       " '90': 0.008333333333333333,\n",
       " '91': 0.029166666666666667,\n",
       " '92': 0.0375,\n",
       " '93': 0.03333333333333333,\n",
       " '94': 0.03333333333333333,\n",
       " '95': 0.016666666666666666,\n",
       " '96': 0.0125,\n",
       " '97': 0.03333333333333333,\n",
       " '98': 0.0375,\n",
       " '99': 0.020833333333333332}"
      ]
     },
     "execution_count": 19,
     "metadata": {},
     "output_type": "execute_result"
    }
   ],
   "source": [
    "# degree centrality\n",
    "nx.degree_centrality(G)"
   ]
  },
  {
   "cell_type": "code",
   "execution_count": 20,
   "metadata": {
    "slideshow": {
     "slide_type": "slide"
    }
   },
   "outputs": [
    {
     "data": {
      "text/plain": [
       "{'1': 0.0026307234207896724,\n",
       " '10': 0.008055352049537088,\n",
       " '100': 0.001867867917999953,\n",
       " '101': 0.0029317408908966633,\n",
       " '102': 0.0036667216896366555,\n",
       " '103': 0.0017107482560232597,\n",
       " '104': 0.0020254880008033767,\n",
       " '105': 0.0005166946495372256,\n",
       " '106': 0.0007712708919282741,\n",
       " '107': 0.0002878104099336899,\n",
       " '108': 0.0015175553588245238,\n",
       " '109': 0.0021842522852631753,\n",
       " '11': 0.010669466112042881,\n",
       " '110': 0.00011652485875965572,\n",
       " '111': 0.00027268128667157324,\n",
       " '112': 0.0008422660705894743,\n",
       " '113': 0.00038615527534300285,\n",
       " '114': 7.219787031502511e-05,\n",
       " '115': 0.0,\n",
       " '116': 0.0011729272418739404,\n",
       " '117': 0.0,\n",
       " '118': 0.0007803170713322663,\n",
       " '119': 0.0008026220283011349,\n",
       " '12': 0.009360851029818543,\n",
       " '120': 0.0006490817502984428,\n",
       " '121': 0.006821751523488637,\n",
       " '122': 0.0,\n",
       " '123': 8.733605229421128e-05,\n",
       " '124': 2.079723314032937e-05,\n",
       " '125': 0.0015145240124352002,\n",
       " '126': 0.0010689162201121861,\n",
       " '127': 0.00981490264478917,\n",
       " '128': 0.0046173179448436245,\n",
       " '129': 0.00045228462069466245,\n",
       " '13': 0.005044570803897903,\n",
       " '130': 0.0001871641646746249,\n",
       " '131': 0.000984389066843696,\n",
       " '132': 0.0009884694646974917,\n",
       " '133': 0.0019674506551506307,\n",
       " '134': 0.000551341248429542,\n",
       " '135': 4.7140311261650175e-05,\n",
       " '136': 0.0010766933588740135,\n",
       " '137': 0.0014268582701698622,\n",
       " '138': 0.0005585558096018348,\n",
       " '139': 0.0004002779804219628,\n",
       " '14': 0.0034485244213609393,\n",
       " '140': 5.397544884992584e-05,\n",
       " '141': 0.00035775068724859505,\n",
       " '142': 0.0003558888753018706,\n",
       " '143': 0.0004081346942225604,\n",
       " '144': 0.0005426217978519233,\n",
       " '145': 0.0010287357149281835,\n",
       " '146': 2.4697814969781493e-05,\n",
       " '147': 0.00018749836479961998,\n",
       " '148': 0.0008180679779559917,\n",
       " '149': 0.0003348750705999045,\n",
       " '15': 0.025070450490804627,\n",
       " '150': 0.0002460878505365338,\n",
       " '151': 0.001483400664886021,\n",
       " '152': 0.000981859027791836,\n",
       " '153': 0.00027875334868320353,\n",
       " '154': 0.0,\n",
       " '155': 0.0003677350853083071,\n",
       " '156': 0.00017468748901803294,\n",
       " '157': 0.00017733106106844723,\n",
       " '158': 0.00016842341371630073,\n",
       " '159': 0.00019491462744600823,\n",
       " '16': 0.005048399057464958,\n",
       " '160': 0.00037801700164712983,\n",
       " '161': 0.0003472223815873828,\n",
       " '162': 0.0008268143932985181,\n",
       " '163': 0.00024446410168167486,\n",
       " '164': 4.6337805229018616e-05,\n",
       " '165': 6.285836045250271e-05,\n",
       " '166': 0.0006607412692550041,\n",
       " '167': 0.0033849004100959712,\n",
       " '168': 0.0010980519473788532,\n",
       " '169': 0.00018369212145362776,\n",
       " '17': 0.0023827524364588995,\n",
       " '170': 0.0017153682472265334,\n",
       " '171': 0.001169600970856201,\n",
       " '172': 0.00027142691107126255,\n",
       " '173': 0.00022770794214308857,\n",
       " '174': 0.00036967768400822794,\n",
       " '175': 0.0006019298383315119,\n",
       " '176': 0.0005665197192393844,\n",
       " '177': 0.00047769989192583337,\n",
       " '178': 0.002678634320893735,\n",
       " '179': 0.0019084174799792407,\n",
       " '18': 0.0025969789628224374,\n",
       " '180': 0.0,\n",
       " '181': 0.0,\n",
       " '182': 0.00041211742310068663,\n",
       " '183': 0.0007007636672681242,\n",
       " '184': 0.0002808472091717499,\n",
       " '185': 0.0008951707515696963,\n",
       " '186': 0.0009783146498627672,\n",
       " '187': 0.001393792361365583,\n",
       " '188': 0.0007831275955934861,\n",
       " '189': 8.922615799093877e-05,\n",
       " '19': 0.001376574922424187,\n",
       " '190': 0.0003814410639724447,\n",
       " '191': 0.00029037128591430936,\n",
       " '192': 0.003264065795105452,\n",
       " '193': 0.00045217518384700476,\n",
       " '194': 0.002670567166883339,\n",
       " '195': 0.000595337751172752,\n",
       " '196': 0.00030796986602425925,\n",
       " '197': 0.0029170049768785446,\n",
       " '198': 0.0019341637625474263,\n",
       " '199': 0.00010209939603245044,\n",
       " '2': 0.0030705241783492796,\n",
       " '20': 0.003107451493809479,\n",
       " '200': 0.00043358973275291267,\n",
       " '201': 9.021274711651282e-05,\n",
       " '202': 0.0006431341786990323,\n",
       " '203': 6.493211173036532e-05,\n",
       " '204': 0.00047707995872904005,\n",
       " '205': 1.0460251046025107e-05,\n",
       " '206': 0.00011738726173872616,\n",
       " '207': 0.001175228575856191,\n",
       " '208': 0.0012785578701646559,\n",
       " '209': 0.0010824514458314712,\n",
       " '21': 0.0039940094651603805,\n",
       " '210': 0.0008004714807288938,\n",
       " '211': 0.0014611829991809978,\n",
       " '212': 0.0,\n",
       " '213': 0.0018901331632139346,\n",
       " '214': 0.00018029037039406326,\n",
       " '215': 0.0013169596003414449,\n",
       " '216': 0.0008387757446334853,\n",
       " '217': 0.0008224392514687219,\n",
       " '218': 0.0006397928063723044,\n",
       " '219': 0.0006359839505760008,\n",
       " '22': 0.0029450825408171,\n",
       " '220': 0.0017295690980200713,\n",
       " '221': 0.000415423087732984,\n",
       " '222': 0.0,\n",
       " '223': 0.00021606576557004064,\n",
       " '224': 9.025338523246471e-05,\n",
       " '225': 6.0191917398120774e-05,\n",
       " '226': 0.0005978175028907246,\n",
       " '227': 0.00012246093051532383,\n",
       " '228': 0.00028210650908258686,\n",
       " '229': 0.000865722395534111,\n",
       " '23': 0.011888274071182403,\n",
       " '230': 0.00014018135766362072,\n",
       " '231': 0.0016149829172841727,\n",
       " '232': 0.001807853641012637,\n",
       " '233': 0.0003290459855972864,\n",
       " '234': 6.334263133426314e-05,\n",
       " '235': 0.0008531526224131281,\n",
       " '236': 1.7046335037966838e-05,\n",
       " '237': 0.00029714861304819463,\n",
       " '238': 1.7046335037966838e-05,\n",
       " '239': 0.0,\n",
       " '24': 0.004866472464063799,\n",
       " '240': 7.205950720595072e-05,\n",
       " '241': 8.716875871687587e-06,\n",
       " '25': 0.006819522778214088,\n",
       " '26': 0.003010701569384016,\n",
       " '27': 0.0025517536266268814,\n",
       " '28': 0.00403874384115636,\n",
       " '29': 0.008186820023068636,\n",
       " '3': 0.0028218433418326274,\n",
       " '30': 0.0021643981451302022,\n",
       " '31': 0.002737394182281507,\n",
       " '32': 0.00341878692798363,\n",
       " '33': 0.0016566142709878242,\n",
       " '34': 0.0003454190403744362,\n",
       " '35': 0.003830380993548278,\n",
       " '36': 0.004617619240063964,\n",
       " '37': 0.0010021582262290905,\n",
       " '38': 0.005484328565667953,\n",
       " '39': 0.0014518495908553877,\n",
       " '4': 0.007983976345290014,\n",
       " '40': 0.010292487977602077,\n",
       " '41': 0.005321526832080322,\n",
       " '42': 0.004134895282185868,\n",
       " '43': 0.0021861520446918603,\n",
       " '44': 0.0024385237539781943,\n",
       " '45': 0.006231013562373133,\n",
       " '46': 0.0033504785016955935,\n",
       " '47': 0.004063376392767678,\n",
       " '48': 0.004218488290927342,\n",
       " '49': 0.0028887189154288236,\n",
       " '5': 0.006261388617880318,\n",
       " '50': 0.00035722413635601996,\n",
       " '51': 0.0036971062219188,\n",
       " '52': 0.0002404723163091364,\n",
       " '53': 0.0034750527482466085,\n",
       " '54': 0.0060742542274193805,\n",
       " '55': 0.0041139138876016635,\n",
       " '56': 0.0006314259388612567,\n",
       " '57': 0.001355149404911482,\n",
       " '58': 0.0045057004280642686,\n",
       " '59': 0.0017309173787711707,\n",
       " '6': 0.0009908245153614449,\n",
       " '60': 0.004481499389748893,\n",
       " '61': 0.00011412692375035472,\n",
       " '62': 0.0009487048471372514,\n",
       " '63': 0.007839110949136262,\n",
       " '64': 0.00028100205171815805,\n",
       " '65': 0.00018783724925971443,\n",
       " '66': 0.00022375820537802633,\n",
       " '67': 0.0019402781485910701,\n",
       " '68': 0.0015824896848206785,\n",
       " '69': 0.00908221586323125,\n",
       " '7': 0.00010752889021717473,\n",
       " '70': 0.0002388401104152218,\n",
       " '71': 0.0006009146969456265,\n",
       " '72': 0.002814289019197822,\n",
       " '73': 0.004035992620572928,\n",
       " '74': 0.014470980528716012,\n",
       " '75': 0.0040040191899807665,\n",
       " '76': 0.00031108056498127757,\n",
       " '77': 0.0008369018039339851,\n",
       " '78': 0.006235313866781356,\n",
       " '79': 0.0006836721167445845,\n",
       " '8': 0.000213222390746344,\n",
       " '80': 0.00036363518841254323,\n",
       " '81': 0.0016871004057371194,\n",
       " '82': 0.0015305770634419474,\n",
       " '83': 0.0015841421190448918,\n",
       " '84': 0.0035961963520137748,\n",
       " '85': 0.0007299059791495331,\n",
       " '86': 0.0023674581479873518,\n",
       " '87': 0.007481361285934205,\n",
       " '88': 0.00016978357345254712,\n",
       " '89': 0.006181205835413935,\n",
       " '9': 0.0047220248431635355,\n",
       " '90': 0.0001253288204125024,\n",
       " '91': 0.0017102511169848308,\n",
       " '92': 0.002787427632920051,\n",
       " '93': 0.0041794300554326485,\n",
       " '94': 0.002187285507210704,\n",
       " '95': 0.0,\n",
       " '96': 3.791149188638729e-05,\n",
       " '97': 0.0017783476660137834,\n",
       " '98': 0.0035212678619045983,\n",
       " '99': 0.0009678295344482229}"
      ]
     },
     "execution_count": 20,
     "metadata": {},
     "output_type": "execute_result"
    }
   ],
   "source": [
    "# betweenness centrality of network\n",
    "nx.betweenness_centrality(G)"
   ]
  },
  {
   "cell_type": "code",
   "execution_count": 21,
   "metadata": {
    "slideshow": {
     "slide_type": "slide"
    }
   },
   "outputs": [
    {
     "data": {
      "text/plain": [
       "{'1': 0.17855626326963905,\n",
       " '10': 0.20765432098765432,\n",
       " '100': 0.19400230680507496,\n",
       " '101': 0.19741784037558685,\n",
       " '102': 0.19200913242009132,\n",
       " '103': 0.18565121412803534,\n",
       " '104': 0.181445523193096,\n",
       " '105': 0.18027867095391212,\n",
       " '106': 0.18382513661202185,\n",
       " '107': 0.16636993076162215,\n",
       " '108': 0.18941441441441442,\n",
       " '109': 0.19333333333333336,\n",
       " '11': 0.22337317397078352,\n",
       " '110': 0.15574074074074076,\n",
       " '111': 0.1797008547008547,\n",
       " '112': 0.16636993076162215,\n",
       " '113': 0.16938569989929508,\n",
       " '114': 0.15318761384335156,\n",
       " '115': 0.17520833333333333,\n",
       " '116': 0.17742616033755276,\n",
       " '117': 0.14991087344028522,\n",
       " '118': 0.08683176100628931,\n",
       " '119': 0.0989695340501792,\n",
       " '12': 0.22248677248677248,\n",
       " '120': 0.09791666666666667,\n",
       " '121': 0.12608447488584476,\n",
       " '122': 0.06817901234567901,\n",
       " '123': 0.0730489417989418,\n",
       " '124': 0.07190755208333333,\n",
       " '125': 0.0989695340501792,\n",
       " '126': 0.09113036303630363,\n",
       " '127': 0.13945707070707072,\n",
       " '128': 0.11650843881856539,\n",
       " '129': 0.10114468864468866,\n",
       " '13': 0.20765432098765432,\n",
       " '130': 0.09023692810457516,\n",
       " '131': 0.10341760299625467,\n",
       " '132': 0.1082843137254902,\n",
       " '133': 0.10004528985507247,\n",
       " '134': 0.0968859649122807,\n",
       " '135': 0.08218005952380952,\n",
       " '136': 0.0989695340501792,\n",
       " '137': 0.09392006802721088,\n",
       " '138': 0.0989695340501792,\n",
       " '139': 0.08683176100628931,\n",
       " '14': 0.20240673886883273,\n",
       " '140': 0.08367424242424241,\n",
       " '141': 0.09791666666666667,\n",
       " '142': 0.0989695340501792,\n",
       " '143': 0.08683176100628931,\n",
       " '144': 0.09297138047138047,\n",
       " '145': 0.09587673611111111,\n",
       " '146': 0.07670138888888889,\n",
       " '147': 0.07734593837535014,\n",
       " '148': 0.10004528985507247,\n",
       " '149': 0.09488831615120275,\n",
       " '15': 0.24166666666666667,\n",
       " '150': 0.09204166666666666,\n",
       " '151': 0.10226851851851852,\n",
       " '152': 0.08765873015873016,\n",
       " '153': 0.07734593837535014,\n",
       " '154': 0.07080128205128206,\n",
       " '155': 0.09297138047138047,\n",
       " '156': 0.09488831615120275,\n",
       " '157': 0.0968859649122807,\n",
       " '158': 0.09392006802721088,\n",
       " '159': 0.09204166666666666,\n",
       " '16': 0.2068880688806888,\n",
       " '160': 0.08522376543209877,\n",
       " '161': 0.09791666666666667,\n",
       " '162': 0.10004528985507247,\n",
       " '163': 0.09113036303630363,\n",
       " '164': 0.08073830409356725,\n",
       " '165': 0.08073830409356725,\n",
       " '166': 0.07751937984496124,\n",
       " '167': 0.08888888888888888,\n",
       " '168': 0.08658008658008656,\n",
       " '169': 0.07326007326007325,\n",
       " '17': 0.19266895761741124,\n",
       " '170': 0.08130081300813008,\n",
       " '171': 0.08130081300813008,\n",
       " '172': 0.07168458781362007,\n",
       " '173': 0.07326007326007325,\n",
       " '174': 0.07017543859649122,\n",
       " '175': 0.07246376811594202,\n",
       " '176': 0.07407407407407407,\n",
       " '177': 0.07017543859649122,\n",
       " '178': 0.065359477124183,\n",
       " '179': 0.08032128514056225,\n",
       " '18': 0.19741784037558685,\n",
       " '180': 0.047619047619047616,\n",
       " '181': 0.047619047619047616,\n",
       " '182': 0.07407407407407407,\n",
       " '183': 0.07575757575757575,\n",
       " '184': 0.07168458781362007,\n",
       " '185': 0.08130081300813008,\n",
       " '186': 0.07751937984496124,\n",
       " '187': 0.08438818565400844,\n",
       " '188': 0.07326007326007325,\n",
       " '189': 0.06944444444444445,\n",
       " '19': 0.19400230680507496,\n",
       " '190': 0.07662835249042145,\n",
       " '191': 0.07326007326007325,\n",
       " '192': 0.09389671361502347,\n",
       " '193': 0.07751937984496124,\n",
       " '194': 0.09803921568627451,\n",
       " '195': 0.08130081300813008,\n",
       " '196': 0.07662835249042145,\n",
       " '197': 0.09259259259259259,\n",
       " '198': 0.08547008547008546,\n",
       " '199': 0.07168458781362007,\n",
       " '2': 0.19266895761741124,\n",
       " '20': 0.18086021505376346,\n",
       " '200': 0.07490636704119849,\n",
       " '201': 0.07246376811594202,\n",
       " '202': 0.07490636704119849,\n",
       " '203': 0.07575757575757575,\n",
       " '204': 0.07407407407407407,\n",
       " '205': 0.06944444444444445,\n",
       " '206': 0.0641025641025641,\n",
       " '207': 0.06980676328502415,\n",
       " '208': 0.08601190476190475,\n",
       " '209': 0.08304597701149424,\n",
       " '21': 0.18442982456140353,\n",
       " '210': 0.08027777777777777,\n",
       " '211': 0.08163841807909604,\n",
       " '212': 0.04722222222222222,\n",
       " '213': 0.08450292397660818,\n",
       " '214': 0.06980676328502415,\n",
       " '215': 0.07297979797979798,\n",
       " '216': 0.07645502645502644,\n",
       " '217': 0.07297979797979798,\n",
       " '218': 0.07083333333333333,\n",
       " '219': 0.07526041666666666,\n",
       " '22': 0.19603729603729603,\n",
       " '220': 0.08919753086419753,\n",
       " '221': 0.07645502645502644,\n",
       " '222': 0.05293040293040293,\n",
       " '223': 0.07189054726368159,\n",
       " '224': 0.06509009009009009,\n",
       " '225': 0.06980676328502415,\n",
       " '226': 0.07768817204301075,\n",
       " '227': 0.06509009009009009,\n",
       " '228': 0.07526041666666666,\n",
       " '229': 0.07645502645502644,\n",
       " '23': 0.21815823605706874,\n",
       " '230': 0.06689814814814815,\n",
       " '231': 0.07768817204301075,\n",
       " '232': 0.07297979797979798,\n",
       " '233': 0.07645502645502644,\n",
       " '234': 0.06689814814814815,\n",
       " '235': 0.07645502645502644,\n",
       " '236': 0.05873983739837398,\n",
       " '237': 0.06020833333333333,\n",
       " '238': 0.05873983739837398,\n",
       " '239': 0.050701754385964914,\n",
       " '24': 0.19200913242009132,\n",
       " '240': 0.06784037558685445,\n",
       " '241': 0.053518518518518514,\n",
       " '25': 0.190702947845805,\n",
       " '26': 0.18941441441441442,\n",
       " '27': 0.19266895761741124,\n",
       " '28': 0.19952550415183867,\n",
       " '29': 0.21318124207858047,\n",
       " '3': 0.19005649717514125,\n",
       " '30': 0.18626799557032117,\n",
       " '31': 0.18626799557032117,\n",
       " '32': 0.19467592592592595,\n",
       " '33': 0.19400230680507496,\n",
       " '34': 0.18814317673378075,\n",
       " '35': 0.19535423925667827,\n",
       " '36': 0.19200913242009132,\n",
       " '37': 0.19266895761741124,\n",
       " '38': 0.20314009661835747,\n",
       " '39': 0.18941441441441442,\n",
       " '4': 0.20998751560549314,\n",
       " '40': 0.22791327913279133,\n",
       " '41': 0.19672514619883041,\n",
       " '42': 0.19200913242009132,\n",
       " '43': 0.20240673886883273,\n",
       " '44': 0.18027867095391212,\n",
       " '45': 0.20387878787878788,\n",
       " '46': 0.19333333333333336,\n",
       " '47': 0.20023809523809524,\n",
       " '48': 0.181445523193096,\n",
       " '49': 0.19467592592592595,\n",
       " '5': 0.20167865707434054,\n",
       " '50': 0.15704948646125116,\n",
       " '51': 0.19400230680507496,\n",
       " '52': 0.1597340930674264,\n",
       " '53': 0.19467592592592595,\n",
       " '54': 0.21237373737373738,\n",
       " '55': 0.19881796690307327,\n",
       " '56': 0.16157540826128722,\n",
       " '57': 0.18086021505376346,\n",
       " '58': 0.174120082815735,\n",
       " '59': 0.1832244008714597,\n",
       " '6': 0.18027867095391212,\n",
       " '60': 0.19741784037558685,\n",
       " '61': 0.15530932594644506,\n",
       " '62': 0.181445523193096,\n",
       " '63': 0.20920398009950247,\n",
       " '64': 0.16064947468958932,\n",
       " '65': 0.18262757871878393,\n",
       " '66': 0.18086021505376346,\n",
       " '67': 0.191353811149033,\n",
       " '68': 0.18262757871878393,\n",
       " '69': 0.217312661498708,\n",
       " '7': 0.14715660542432196,\n",
       " '70': 0.16686507936507936,\n",
       " '71': 0.18262757871878393,\n",
       " '72': 0.18814317673378075,\n",
       " '73': 0.20314009661835747,\n",
       " '74': 0.22699055330634277,\n",
       " '75': 0.20240673886883273,\n",
       " '76': 0.16538839724680432,\n",
       " '77': 0.18442982456140353,\n",
       " '78': 0.190702947845805,\n",
       " '79': 0.18503850385038506,\n",
       " '8': 0.181445523193096,\n",
       " '80': 0.18442982456140353,\n",
       " '81': 0.19005649717514125,\n",
       " '82': 0.17912673056443024,\n",
       " '83': 0.19005649717514125,\n",
       " '84': 0.19200913242009132,\n",
       " '85': 0.1797008547008547,\n",
       " '86': 0.19266895761741124,\n",
       " '87': 0.2046228710462287,\n",
       " '88': 0.14562770562770563,\n",
       " '89': 0.19881796690307327,\n",
       " '9': 0.20240673886883273,\n",
       " '90': 0.15530932594644506,\n",
       " '91': 0.18382513661202185,\n",
       " '92': 0.18941441441441442,\n",
       " '93': 0.19811542991755007,\n",
       " '94': 0.19811542991755007,\n",
       " '95': 0.14991087344028522,\n",
       " '96': 0.1719836400817996,\n",
       " '97': 0.18941441441441442,\n",
       " '98': 0.19200913242009132,\n",
       " '99': 0.17358101135190918}"
      ]
     },
     "execution_count": 21,
     "metadata": {},
     "output_type": "execute_result"
    }
   ],
   "source": [
    "# closeness centrality of network\n",
    "nx.closeness_centrality(G)"
   ]
  },
  {
   "cell_type": "markdown",
   "metadata": {
    "slideshow": {
     "slide_type": "slide"
    }
   },
   "source": [
    "#### 5. Components"
   ]
  },
  {
   "cell_type": "code",
   "execution_count": 22,
   "metadata": {
    "slideshow": {
     "slide_type": "fragment"
    }
   },
   "outputs": [
    {
     "data": {
      "text/plain": [
       "False"
      ]
     },
     "execution_count": 22,
     "metadata": {},
     "output_type": "execute_result"
    }
   ],
   "source": [
    "# checks whether the network is connected\n",
    "nx.is_connected(G)"
   ]
  },
  {
   "cell_type": "code",
   "execution_count": 23,
   "metadata": {
    "slideshow": {
     "slide_type": "fragment"
    }
   },
   "outputs": [
    {
     "data": {
      "text/plain": [
       "4"
      ]
     },
     "execution_count": 23,
     "metadata": {},
     "output_type": "execute_result"
    }
   ],
   "source": [
    "# find number of connected components\n",
    "nx.number_connected_components(G)"
   ]
  },
  {
   "cell_type": "code",
   "execution_count": 24,
   "metadata": {
    "slideshow": {
     "slide_type": "slide"
    }
   },
   "outputs": [
    {
     "data": {
      "text/plain": [
       "{'1',\n",
       " '10',\n",
       " '100',\n",
       " '101',\n",
       " '102',\n",
       " '103',\n",
       " '104',\n",
       " '105',\n",
       " '106',\n",
       " '107',\n",
       " '108',\n",
       " '109',\n",
       " '11',\n",
       " '110',\n",
       " '111',\n",
       " '112',\n",
       " '113',\n",
       " '114',\n",
       " '115',\n",
       " '116',\n",
       " '117',\n",
       " '12',\n",
       " '13',\n",
       " '14',\n",
       " '15',\n",
       " '16',\n",
       " '17',\n",
       " '18',\n",
       " '19',\n",
       " '2',\n",
       " '20',\n",
       " '21',\n",
       " '22',\n",
       " '23',\n",
       " '24',\n",
       " '25',\n",
       " '26',\n",
       " '27',\n",
       " '28',\n",
       " '29',\n",
       " '3',\n",
       " '30',\n",
       " '31',\n",
       " '32',\n",
       " '33',\n",
       " '34',\n",
       " '35',\n",
       " '36',\n",
       " '37',\n",
       " '38',\n",
       " '39',\n",
       " '4',\n",
       " '40',\n",
       " '41',\n",
       " '42',\n",
       " '43',\n",
       " '44',\n",
       " '45',\n",
       " '46',\n",
       " '47',\n",
       " '48',\n",
       " '49',\n",
       " '5',\n",
       " '50',\n",
       " '51',\n",
       " '52',\n",
       " '53',\n",
       " '54',\n",
       " '55',\n",
       " '56',\n",
       " '57',\n",
       " '58',\n",
       " '59',\n",
       " '6',\n",
       " '60',\n",
       " '61',\n",
       " '62',\n",
       " '63',\n",
       " '64',\n",
       " '65',\n",
       " '66',\n",
       " '67',\n",
       " '68',\n",
       " '69',\n",
       " '7',\n",
       " '70',\n",
       " '71',\n",
       " '72',\n",
       " '73',\n",
       " '74',\n",
       " '75',\n",
       " '76',\n",
       " '77',\n",
       " '78',\n",
       " '79',\n",
       " '8',\n",
       " '80',\n",
       " '81',\n",
       " '82',\n",
       " '83',\n",
       " '84',\n",
       " '85',\n",
       " '86',\n",
       " '87',\n",
       " '88',\n",
       " '89',\n",
       " '9',\n",
       " '90',\n",
       " '91',\n",
       " '92',\n",
       " '93',\n",
       " '94',\n",
       " '95',\n",
       " '96',\n",
       " '97',\n",
       " '98',\n",
       " '99'}"
      ]
     },
     "execution_count": 24,
     "metadata": {},
     "output_type": "execute_result"
    }
   ],
   "source": [
    "# get the nodes in the same component as *n*\n",
    "nx.node_connected_component(G, '1')"
   ]
  },
  {
   "cell_type": "markdown",
   "metadata": {
    "slideshow": {
     "slide_type": "slide"
    }
   },
   "source": [
    "#### 6. Assortativity\n",
    "\n",
    "* Pearson correlation coefficient [-1; 1]\n",
    "* social networks are highly assortative (homophily): high degree nodes connect to other high degree nodes\n",
    "* technological are disassortative: high degree nodes connect to low degree nodes\n",
    "\n",
    "Assortativity computed based on:\n",
    "* degree\n",
    "* attribute"
   ]
  },
  {
   "cell_type": "code",
   "execution_count": 25,
   "metadata": {
    "slideshow": {
     "slide_type": "slide"
    }
   },
   "outputs": [
    {
     "data": {
      "text/plain": [
       "-0.05582911431431812"
      ]
     },
     "execution_count": 25,
     "metadata": {},
     "output_type": "execute_result"
    }
   ],
   "source": [
    "# check assortativity of network\n",
    "nx.assortativity.degree_pearson_correlation_coefficient(G)"
   ]
  },
  {
   "cell_type": "code",
   "execution_count": 26,
   "metadata": {
    "slideshow": {
     "slide_type": "fragment"
    }
   },
   "outputs": [
    {
     "data": {
      "text/plain": [
       "-0.05582911431431909"
      ]
     },
     "execution_count": 26,
     "metadata": {},
     "output_type": "execute_result"
    }
   ],
   "source": [
    "nx.degree_assortativity_coefficient(G)"
   ]
  },
  {
   "cell_type": "code",
   "execution_count": 27,
   "metadata": {
    "slideshow": {
     "slide_type": "fragment"
    }
   },
   "outputs": [],
   "source": [
    "# check assortativity (mixing) by a particular attribute\n",
    "#nx.attribute_assortativity_coefficient(G, attribute)"
   ]
  },
  {
   "cell_type": "code",
   "execution_count": 28,
   "metadata": {},
   "outputs": [
    {
     "name": "stdout",
     "output_type": "stream",
     "text": [
      "Politician network assortativity: 0.0182443427670884\n",
      "Artist network assortativity: -0.01906626068251133\n",
      "Company network assortativity: 0.012977786248196819\n",
      "Public figure network assortativity: 0.202161548290631\n"
     ]
    }
   ],
   "source": [
    "# we can check assortativity\n",
    "print(\"Politician network assortativity: {}\".format(nx.degree_assortativity_coefficient(poli_net)))\n",
    "print(\"Artist network assortativity: {}\".format(nx.degree_assortativity_coefficient(art_net)))\n",
    "print(\"Company network assortativity: {}\".format(nx.degree_assortativity_coefficient(co_net)))\n",
    "print(\"Public figure network assortativity: {}\".format(nx.degree_assortativity_coefficient(pub_net)))"
   ]
  },
  {
   "cell_type": "markdown",
   "metadata": {},
   "source": [
    "### Takeaways\n",
    "\n",
    "* politician network has highest clustering coefficient (CC = 0.39) -> political views tend to cluster people more densely\n",
    "* public figure network has the highest assortativity -> the only network that reflects human relationship type of connectivity\n",
    "* disassortativity seen only in artist networks may be indicative of competitiveness, desire not to like/promote other popular peers\n",
    "* lowest average degree found in company network\n",
    "* highest average degree seen in artist network\n",
    "* each network has similar degree distribution with heavy tail -> most nodes have small number of connections, while a few nodes (hubs) have significantly higher number of links\n",
    "* and many more insights with more detailed analyses -> it is your homework to explore more! :)"
   ]
  }
 ],
 "metadata": {
  "celltoolbar": "Raw Cell Format",
  "kernelspec": {
   "display_name": "Python 3",
   "language": "python",
   "name": "python3"
  },
  "language_info": {
   "codemirror_mode": {
    "name": "ipython",
    "version": 3
   },
   "file_extension": ".py",
   "mimetype": "text/x-python",
   "name": "python",
   "nbconvert_exporter": "python",
   "pygments_lexer": "ipython3",
   "version": "3.6.1"
  }
 },
 "nbformat": 4,
 "nbformat_minor": 2
}
